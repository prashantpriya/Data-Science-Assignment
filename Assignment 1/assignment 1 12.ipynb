{
 "cells": [
  {
   "cell_type": "code",
   "execution_count": 1,
   "id": "b81bfa7a",
   "metadata": {},
   "outputs": [],
   "source": [
    "import pandas as pd \n",
    "import numpy as np\n",
    "import matplotlib.pyplot as plt\n",
    "import seaborn as sns\n"
   ]
  },
  {
   "cell_type": "code",
   "execution_count": 2,
   "id": "768be3b3",
   "metadata": {},
   "outputs": [],
   "source": [
    "x = pd.Series([34,36,38,39,39,40,40,41,41,41,41,42,42,45,49,46])"
   ]
  },
  {
   "cell_type": "code",
   "execution_count": 3,
   "id": "ef0305fa",
   "metadata": {},
   "outputs": [
    {
     "data": {
      "text/plain": [
       "40.875"
      ]
     },
     "execution_count": 3,
     "metadata": {},
     "output_type": "execute_result"
    }
   ],
   "source": [
    "#mean\n",
    "x.mean()"
   ]
  },
  {
   "cell_type": "code",
   "execution_count": 4,
   "id": "3d0999df",
   "metadata": {},
   "outputs": [
    {
     "data": {
      "text/plain": [
       "41.0"
      ]
     },
     "execution_count": 4,
     "metadata": {},
     "output_type": "execute_result"
    }
   ],
   "source": [
    "#mwdian\n",
    "x.median()"
   ]
  },
  {
   "cell_type": "code",
   "execution_count": 5,
   "id": "e9a18831",
   "metadata": {},
   "outputs": [
    {
     "data": {
      "text/plain": [
       "0    41\n",
       "dtype: int64"
      ]
     },
     "execution_count": 5,
     "metadata": {},
     "output_type": "execute_result"
    }
   ],
   "source": [
    "#mode\n",
    "x.mode()"
   ]
  },
  {
   "cell_type": "code",
   "execution_count": 6,
   "id": "b98f1023",
   "metadata": {},
   "outputs": [
    {
     "data": {
      "text/plain": [
       "13.316666666666666"
      ]
     },
     "execution_count": 6,
     "metadata": {},
     "output_type": "execute_result"
    }
   ],
   "source": [
    "#variance\n",
    "x.var()"
   ]
  },
  {
   "cell_type": "code",
   "execution_count": 7,
   "id": "10a8fb1d",
   "metadata": {},
   "outputs": [
    {
     "data": {
      "text/plain": [
       "3.6492008257516693"
      ]
     },
     "execution_count": 7,
     "metadata": {},
     "output_type": "execute_result"
    }
   ],
   "source": [
    "#standard deviation\n",
    "x.std()"
   ]
  },
  {
   "cell_type": "code",
   "execution_count": 9,
   "id": "f9cc3a03",
   "metadata": {},
   "outputs": [
    {
     "data": {
      "text/plain": [
       "{'whiskers': [<matplotlib.lines.Line2D at 0x274ded53550>,\n",
       "  <matplotlib.lines.Line2D at 0x274ded53850>],\n",
       " 'caps': [<matplotlib.lines.Line2D at 0x274ded53b20>,\n",
       "  <matplotlib.lines.Line2D at 0x274ded53df0>],\n",
       " 'boxes': [<matplotlib.lines.Line2D at 0x274ded53280>],\n",
       " 'medians': [<matplotlib.lines.Line2D at 0x274ded61100>],\n",
       " 'fliers': [<matplotlib.lines.Line2D at 0x274ded613d0>],\n",
       " 'means': []}"
      ]
     },
     "execution_count": 9,
     "metadata": {},
     "output_type": "execute_result"
    },
    {
     "data": {
      "image/png": "[encoded data removed]",
      "text/plain": [
       "<Figure size 640x480 with 1 Axes>"
      ]
     },
     "metadata": {},
     "output_type": "display_data"
    }
   ],
   "source": [
    "plt.boxplot(x)"
   ]
  },
  {
   "cell_type": "code",
   "execution_count": null,
   "id": "8f401048",
   "metadata": {},
   "outputs": [],
   "source": [
    "#From above plot we can say that mean of marks of student is 41 which is slightly greater than median."
   ]
  }
 ],
 "metadata": {
  "kernelspec": {
   "display_name": "Python 3 (ipykernel)",
   "language": "python",
   "name": "python3"
  },
  "language_info": {
   "codemirror_mode": {
    "name": "ipython",
    "version": 3
   },
   "file_extension": ".py",
   "mimetype": "text/x-python",
   "name": "python",
   "nbconvert_exporter": "python",
   "pygments_lexer": "ipython3",
   "version": "3.9.13"
  }
 },
 "nbformat": 4,
 "nbformat_minor": 5
}
